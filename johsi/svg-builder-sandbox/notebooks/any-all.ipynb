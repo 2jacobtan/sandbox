{
 "cells": [
  {
   "cell_type": "code",
   "execution_count": 2,
   "id": "ffe42b35",
   "metadata": {},
   "outputs": [
    {
     "data": {
      "text/html": [
       "<style>/* Styles used for the Hoogle display in the pager */\n",
       ".hoogle-doc {\n",
       "display: block;\n",
       "padding-bottom: 1.3em;\n",
       "padding-left: 0.4em;\n",
       "}\n",
       ".hoogle-code {\n",
       "display: block;\n",
       "font-family: monospace;\n",
       "white-space: pre;\n",
       "}\n",
       ".hoogle-text {\n",
       "display: block;\n",
       "}\n",
       ".hoogle-name {\n",
       "color: green;\n",
       "font-weight: bold;\n",
       "}\n",
       ".hoogle-head {\n",
       "font-weight: bold;\n",
       "}\n",
       ".hoogle-sub {\n",
       "display: block;\n",
       "margin-left: 0.4em;\n",
       "}\n",
       ".hoogle-package {\n",
       "font-weight: bold;\n",
       "font-style: italic;\n",
       "}\n",
       ".hoogle-module {\n",
       "font-weight: bold;\n",
       "}\n",
       ".hoogle-class {\n",
       "font-weight: bold;\n",
       "}\n",
       ".get-type {\n",
       "color: green;\n",
       "font-weight: bold;\n",
       "font-family: monospace;\n",
       "display: block;\n",
       "white-space: pre-wrap;\n",
       "}\n",
       ".show-type {\n",
       "color: green;\n",
       "font-weight: bold;\n",
       "font-family: monospace;\n",
       "margin-left: 1em;\n",
       "}\n",
       ".mono {\n",
       "font-family: monospace;\n",
       "display: block;\n",
       "}\n",
       ".err-msg {\n",
       "color: red;\n",
       "font-style: italic;\n",
       "font-family: monospace;\n",
       "white-space: pre;\n",
       "display: block;\n",
       "}\n",
       "#unshowable {\n",
       "color: red;\n",
       "font-weight: bold;\n",
       "}\n",
       ".err-msg.in.collapse {\n",
       "padding-top: 0.7em;\n",
       "}\n",
       ".highlight-code {\n",
       "white-space: pre;\n",
       "font-family: monospace;\n",
       "}\n",
       ".suggestion-warning { \n",
       "font-weight: bold;\n",
       "color: rgb(200, 130, 0);\n",
       "}\n",
       ".suggestion-error { \n",
       "font-weight: bold;\n",
       "color: red;\n",
       "}\n",
       ".suggestion-name {\n",
       "font-weight: bold;\n",
       "}\n",
       "</style><div class=\"suggestion-name\" style=\"clear:both;\">Unused LANGUAGE pragma</div><div class=\"suggestion-row\" style=\"float: left;\"><div class=\"suggestion-warning\">Found:</div><div class=\"highlight-code\" id=\"haskell\">{-# LANGUAGE OverloadedStrings #-}</div></div><div class=\"suggestion-row\" style=\"float: left;\"><div class=\"suggestion-warning\">Why Not:</div><div class=\"highlight-code\" id=\"haskell\"></div></div><div class=\"suggestion-name\" style=\"clear:both;\">Unused LANGUAGE pragma</div><div class=\"suggestion-row\" style=\"float: left;\"><div class=\"suggestion-warning\">Found:</div><div class=\"highlight-code\" id=\"haskell\">{-# LANGUAGE InstanceSigs #-}</div></div><div class=\"suggestion-row\" style=\"float: left;\"><div class=\"suggestion-warning\">Why Not:</div><div class=\"highlight-code\" id=\"haskell\"></div></div>"
      ],
      "text/plain": [
       "Line 1: Unused LANGUAGE pragma\n",
       "Found:\n",
       "{-# LANGUAGE OverloadedStrings #-}\n",
       "Why not:\n",
       "Line 2: Unused LANGUAGE pragma\n",
       "Found:\n",
       "{-# LANGUAGE InstanceSigs #-}\n",
       "Why not:"
      ]
     },
     "metadata": {},
     "output_type": "display_data"
    }
   ],
   "source": [
    "{-# LANGUAGE OverloadedStrings #-}\n",
    "{-# LANGUAGE InstanceSigs #-}\n",
    "{-# LANGUAGE FlexibleInstances #-}"
   ]
  },
  {
   "cell_type": "code",
   "execution_count": 3,
   "id": "c4743d29",
   "metadata": {},
   "outputs": [],
   "source": [
    "import Graphics.Svg\n",
    "import qualified IHaskell.Display as D\n",
    "import qualified Data.Text as T\n",
    "import qualified Data.List as List\n",
    "-- import Debug.Trace (trace)"
   ]
  },
  {
   "cell_type": "code",
   "execution_count": 4,
   "id": "b89f6ec7",
   "metadata": {},
   "outputs": [],
   "source": [
    "renderSvg :: Element -> Element\n",
    "renderSvg content =\n",
    "     doctype\n",
    "  <> with (svg11_ content) [Version_ <<- \"1.1\", Width_ <<- \"300\", Height_ <<- \"200\"]"
   ]
  },
  {
   "cell_type": "code",
   "execution_count": 5,
   "id": "190fb7cd",
   "metadata": {},
   "outputs": [],
   "source": [
    "contents :: Element\n",
    "contents =\n",
    "     rect_ [ Width_ <<- \"100%\", Height_ <<- \"100%\", Fill_ <<- \"red\" ]\n",
    "  <> circle_ [ Cx_ <<- \"150\", Cy_ <<- \"100\", R_ <<- \"80\", Fill_ <<- \"green\" ]\n",
    "  <> text_ [ X_ <<- \"150\", Y_ <<- \"125\", Font_size_ <<- \"60\"\n",
    "           , Text_anchor_ <<- \"middle\", Fill_ <<- \"white\" ] \"SVG\""
   ]
  },
  {
   "cell_type": "code",
   "execution_count": 6,
   "id": "ad0b5fc0",
   "metadata": {},
   "outputs": [
    {
     "data": {
      "text/plain": [
       "<?xml version=\"1.0\" encoding=\"UTF-8\"?>\n",
       "<!DOCTYPE svg PUBLIC \"-//W3C//DTD SVG 1.1//EN\"\n",
       "    \"http://www.w3.org/Graphics/SVG/1.1/DTD/svg11.dtd\"><svg xmlns=\"http://www.w3.org/2000/svg\" height=\"200\" width=\"300\" xmlns:xlink=\"http://www.w3.org/1999/xlink\" version=\"1.11.1\"><rect height=\"100%\" width=\"100%\" fill=\"red\"/><circle fill=\"green\" cy=\"100\" r=\"80\" cx=\"150\"/><text font-size=\"60\" fill=\"white\" x=\"150\" text-anchor=\"middle\" y=\"125\">SVG</text></svg>"
      ]
     },
     "metadata": {},
     "output_type": "display_data"
    }
   ],
   "source": [
    "renderSvg contents"
   ]
  },
  {
   "cell_type": "markdown",
   "id": "8b61a331",
   "metadata": {},
   "source": [
    "Instancing the `IHaskellDisplay` typeclass allows elements to be displayed rather than returned as an SVG string"
   ]
  },
  {
   "cell_type": "code",
   "execution_count": 7,
   "id": "6f3d9ff4",
   "metadata": {},
   "outputs": [],
   "source": [
    "instance D.IHaskellDisplay Element where\n",
    "  display :: Element -> IO D.Display\n",
    "  display = D.display . D.svg . show . renderSvg"
   ]
  },
  {
   "cell_type": "code",
   "execution_count": 8,
   "id": "9fecc547",
   "metadata": {},
   "outputs": [
    {
     "data": {
      "image/svg+xml": [
       "<?xml version=\"1.0\" encoding=\"UTF-8\"?>\n",
       "<!DOCTYPE svg PUBLIC \"-//W3C//DTD SVG 1.1//EN\"\n",
       "    \"http://www.w3.org/Graphics/SVG/1.1/DTD/svg11.dtd\"><svg xmlns=\"http://www.w3.org/2000/svg\" height=\"200\" width=\"300\" xmlns:xlink=\"http://www.w3.org/1999/xlink\" version=\"1.11.1\"><?xml version=\"1.0\" encoding=\"UTF-8\"?>\n",
       "<!DOCTYPE svg PUBLIC \"-//W3C//DTD SVG 1.1//EN\"\n",
       "    \"http://www.w3.org/Graphics/SVG/1.1/DTD/svg11.dtd\"><svg xmlns=\"http://www.w3.org/2000/svg\" height=\"200\" width=\"300\" xmlns:xlink=\"http://www.w3.org/1999/xlink\" version=\"1.11.1\"><rect height=\"100%\" width=\"100%\" fill=\"red\"/><circle fill=\"green\" cy=\"100\" r=\"80\" cx=\"150\"/><text font-size=\"60\" fill=\"white\" x=\"150\" text-anchor=\"middle\" y=\"125\">SVG</text></svg></svg>"
      ]
     },
     "metadata": {},
     "output_type": "display_data"
    }
   ],
   "source": [
    "renderSvg contents"
   ]
  },
  {
   "cell_type": "markdown",
   "id": "7eb873d4",
   "metadata": {},
   "source": [
    "Custom operator for relaxing the type of `AttrTag` args to include all Showable types (instead of just Text)"
   ]
  },
  {
   "cell_type": "code",
   "execution_count": 9,
   "id": "159b6a08",
   "metadata": {},
   "outputs": [],
   "source": [
    "(<<-*) :: Show a => AttrTag -> a -> Attribute\n",
    "(<<-*) tag a = bindAttr tag (T.pack (show a))"
   ]
  },
  {
   "cell_type": "markdown",
   "id": "25c57919",
   "metadata": {},
   "source": [
    "Let SVG height be determined by height of constituent geoms to avoid clipping\n",
    "\n",
    "Double is used because `translate` takes a `RealFloat` instance downstream"
   ]
  },
  {
   "cell_type": "code",
   "execution_count": 10,
   "id": "88c8702d",
   "metadata": {},
   "outputs": [],
   "source": [
    "type Height = Double"
   ]
  },
  {
   "cell_type": "code",
   "execution_count": 11,
   "id": "c3bce504",
   "metadata": {},
   "outputs": [],
   "source": [
    "makeSvg :: (Height, Element) -> Element\n",
    "makeSvg (height, geom) =\n",
    "     doctype\n",
    "  <> with (svg11_ geom) [Version_ <<- \"1.1\", Height_ <<-* height]"
   ]
  },
  {
   "cell_type": "markdown",
   "id": "6e3d4b45",
   "metadata": {},
   "source": [
    "Some primitives for drawing and chaining items"
   ]
  },
  {
   "cell_type": "code",
   "execution_count": 12,
   "id": "10808afc",
   "metadata": {},
   "outputs": [],
   "source": [
    "box :: Double -> Double -> Double -> Double -> Element\n",
    "box x y w h = \n",
    "  rect_ [ X_ <<-* x, Y_ <<-* y, Width_ <<-* w, Height_ <<-* h\n",
    "        , Fill_ <<- \"none\", Stroke_ <<- \"black\" ]"
   ]
  },
  {
   "cell_type": "code",
   "execution_count": 13,
   "id": "592f0d87",
   "metadata": {},
   "outputs": [],
   "source": [
    "line :: (Double , Double) -> (Double, Double) -> Element\n",
    "line (x1, y1) (x2, y2) =\n",
    "  line_ [ X1_ <<-* x1, X2_ <<-* x2, Y1_ <<-* y1, Y2_ <<-* y2\n",
    "        , Stroke_ <<- \"grey\" ]"
   ]
  },
  {
   "cell_type": "code",
   "execution_count": 14,
   "id": "c62064da",
   "metadata": {},
   "outputs": [
    {
     "data": {
      "image/svg+xml": [
       "<?xml version=\"1.0\" encoding=\"UTF-8\"?>\n",
       "<!DOCTYPE svg PUBLIC \"-//W3C//DTD SVG 1.1//EN\"\n",
       "    \"http://www.w3.org/Graphics/SVG/1.1/DTD/svg11.dtd\"><svg xmlns=\"http://www.w3.org/2000/svg\" height=\"200\" width=\"300\" xmlns:xlink=\"http://www.w3.org/1999/xlink\" version=\"1.11.1\"><rect height=\"20.0\" width=\"20.0\" stroke=\"black\" fill=\"none\" x=\"5.0\" y=\"5.0\"/><line x2=\"15.0\" y1=\"25.0\" stroke=\"grey\" y2=\"30.0\" x1=\"15.0\"/><rect height=\"20.0\" width=\"20.0\" stroke=\"black\" fill=\"none\" x=\"5.0\" y=\"30.0\"/></svg>"
      ]
     },
     "metadata": {},
     "output_type": "display_data"
    }
   ],
   "source": [
    "box 5 5 20 20\n",
    "  <> line (15, 25) (15, 30)\n",
    "  <> box 5 30 20 20"
   ]
  },
  {
   "cell_type": "code",
   "execution_count": 15,
   "id": "9f3af455",
   "metadata": {},
   "outputs": [],
   "source": [
    "item :: Double -> Double -> Element -> Element\n",
    "item x y desc =\n",
    "  let w = 20\n",
    "  in \n",
    "    g_ [] (   box x y w w\n",
    "           <> text_ [ X_ <<-* (x + w + 5), Y_ <<-* (y + w - 5) ] desc )"
   ]
  },
  {
   "cell_type": "code",
   "execution_count": 16,
   "id": "a28d7570",
   "metadata": {},
   "outputs": [
    {
     "data": {
      "image/svg+xml": [
       "<?xml version=\"1.0\" encoding=\"UTF-8\"?>\n",
       "<!DOCTYPE svg PUBLIC \"-//W3C//DTD SVG 1.1//EN\"\n",
       "    \"http://www.w3.org/Graphics/SVG/1.1/DTD/svg11.dtd\"><svg xmlns=\"http://www.w3.org/2000/svg\" height=\"200\" width=\"300\" xmlns:xlink=\"http://www.w3.org/1999/xlink\" version=\"1.11.1\"><g><rect height=\"20.0\" width=\"20.0\" stroke=\"black\" fill=\"none\" x=\"5.0\" y=\"5.0\"/><text x=\"30.0\" y=\"20.0\">Item 3.1</text></g></svg>"
      ]
     },
     "metadata": {},
     "output_type": "display_data"
    }
   ],
   "source": [
    "item 5 5 \"Item 3.1\""
   ]
  },
  {
   "cell_type": "code",
   "execution_count": 17,
   "id": "d95bd04a",
   "metadata": {},
   "outputs": [
    {
     "data": {
      "text/html": [
       "<style>/* Styles used for the Hoogle display in the pager */\n",
       ".hoogle-doc {\n",
       "display: block;\n",
       "padding-bottom: 1.3em;\n",
       "padding-left: 0.4em;\n",
       "}\n",
       ".hoogle-code {\n",
       "display: block;\n",
       "font-family: monospace;\n",
       "white-space: pre;\n",
       "}\n",
       ".hoogle-text {\n",
       "display: block;\n",
       "}\n",
       ".hoogle-name {\n",
       "color: green;\n",
       "font-weight: bold;\n",
       "}\n",
       ".hoogle-head {\n",
       "font-weight: bold;\n",
       "}\n",
       ".hoogle-sub {\n",
       "display: block;\n",
       "margin-left: 0.4em;\n",
       "}\n",
       ".hoogle-package {\n",
       "font-weight: bold;\n",
       "font-style: italic;\n",
       "}\n",
       ".hoogle-module {\n",
       "font-weight: bold;\n",
       "}\n",
       ".hoogle-class {\n",
       "font-weight: bold;\n",
       "}\n",
       ".get-type {\n",
       "color: green;\n",
       "font-weight: bold;\n",
       "font-family: monospace;\n",
       "display: block;\n",
       "white-space: pre-wrap;\n",
       "}\n",
       ".show-type {\n",
       "color: green;\n",
       "font-weight: bold;\n",
       "font-family: monospace;\n",
       "margin-left: 1em;\n",
       "}\n",
       ".mono {\n",
       "font-family: monospace;\n",
       "display: block;\n",
       "}\n",
       ".err-msg {\n",
       "color: red;\n",
       "font-style: italic;\n",
       "font-family: monospace;\n",
       "white-space: pre;\n",
       "display: block;\n",
       "}\n",
       "#unshowable {\n",
       "color: red;\n",
       "font-weight: bold;\n",
       "}\n",
       ".err-msg.in.collapse {\n",
       "padding-top: 0.7em;\n",
       "}\n",
       ".highlight-code {\n",
       "white-space: pre;\n",
       "font-family: monospace;\n",
       "}\n",
       ".suggestion-warning { \n",
       "font-weight: bold;\n",
       "color: rgb(200, 130, 0);\n",
       "}\n",
       ".suggestion-error { \n",
       "font-weight: bold;\n",
       "color: red;\n",
       "}\n",
       ".suggestion-name {\n",
       "font-weight: bold;\n",
       "}\n",
       "</style><span class='get-type'>translate :: forall a. RealFloat a => a -> a -> Text</span>"
      ],
      "text/plain": [
       "translate :: forall a. RealFloat a => a -> a -> Text"
      ]
     },
     "metadata": {},
     "output_type": "display_data"
    }
   ],
   "source": [
    ":t translate"
   ]
  },
  {
   "cell_type": "markdown",
   "id": "6835e755",
   "metadata": {},
   "source": [
    "Translates an element by (x, y)"
   ]
  },
  {
   "cell_type": "code",
   "execution_count": 18,
   "id": "5236ea94",
   "metadata": {},
   "outputs": [],
   "source": [
    "move :: (Double, Double) -> Element -> Element\n",
    "move (x, y) geoms =\n",
    "  with geoms [Transform_ <<- translate x y]"
   ]
  },
  {
   "cell_type": "markdown",
   "id": "bd3047d4",
   "metadata": {},
   "source": [
    "A series of downward translations"
   ]
  },
  {
   "cell_type": "code",
   "execution_count": 19,
   "id": "f82e2727",
   "metadata": {},
   "outputs": [
    {
     "data": {
      "image/svg+xml": [
       "<?xml version=\"1.0\" encoding=\"UTF-8\"?>\n",
       "<!DOCTYPE svg PUBLIC \"-//W3C//DTD SVG 1.1//EN\"\n",
       "    \"http://www.w3.org/Graphics/SVG/1.1/DTD/svg11.dtd\"><svg xmlns=\"http://www.w3.org/2000/svg\" height=\"200\" width=\"300\" xmlns:xlink=\"http://www.w3.org/1999/xlink\" version=\"1.11.1\"><g transform=\"translate(5.0000 5.0000)\"><rect height=\"20.0\" width=\"20.0\" stroke=\"black\" fill=\"none\" x=\"0.0\" y=\"0.0\"/><text x=\"25.0\" y=\"15.0\">item</text></g><g transform=\"translate(5.0000 30.0000)\"><rect height=\"20.0\" width=\"20.0\" stroke=\"black\" fill=\"none\" x=\"0.0\" y=\"0.0\"/><text x=\"25.0\" y=\"15.0\">item</text></g><g transform=\"translate(5.0000 55.0000)\"><rect height=\"20.0\" width=\"20.0\" stroke=\"black\" fill=\"none\" x=\"0.0\" y=\"0.0\"/><text x=\"25.0\" y=\"15.0\">item</text></g></svg>"
      ]
     },
     "metadata": {},
     "output_type": "display_data"
    }
   ],
   "source": [
    "move (5,5) (item 0 0 \"item\") \n",
    "  <> move (5,30) (item 0 0 \"item\") \n",
    "  <> move (5,55) (item 0 0 \"item\")"
   ]
  },
  {
   "cell_type": "markdown",
   "id": "87adc6c5",
   "metadata": {},
   "source": [
    "Nesting moves and extracting the common factor"
   ]
  },
  {
   "cell_type": "code",
   "execution_count": 20,
   "id": "369a23c2",
   "metadata": {},
   "outputs": [
    {
     "data": {
      "image/svg+xml": [
       "<?xml version=\"1.0\" encoding=\"UTF-8\"?>\n",
       "<!DOCTYPE svg PUBLIC \"-//W3C//DTD SVG 1.1//EN\"\n",
       "    \"http://www.w3.org/Graphics/SVG/1.1/DTD/svg11.dtd\"><svg xmlns=\"http://www.w3.org/2000/svg\" height=\"200\" width=\"300\" xmlns:xlink=\"http://www.w3.org/1999/xlink\" version=\"1.11.1\"><g transform=\"translate(5.0000 5.0000)\"><rect height=\"20.0\" width=\"20.0\" stroke=\"black\" fill=\"none\" x=\"0.0\" y=\"0.0\"/><text x=\"25.0\" y=\"15.0\">item</text></g><g transform=\"translate(0.0000 25.0000)translate(5.0000 5.0000)\"><rect height=\"20.0\" width=\"20.0\" stroke=\"black\" fill=\"none\" x=\"0.0\" y=\"0.0\"/><text x=\"25.0\" y=\"15.0\">item</text></g><g transform=\"translate(0.0000 25.0000)translate(0.0000 25.0000)translate(5.0000 5.0000)\"><rect height=\"20.0\" width=\"20.0\" stroke=\"black\" fill=\"none\" x=\"0.0\" y=\"0.0\"/><text x=\"25.0\" y=\"15.0\">item</text></g></svg>"
      ]
     },
     "metadata": {},
     "output_type": "display_data"
    }
   ],
   "source": [
    "move (5,5) \n",
    "     (item 0 0 \"item\" \n",
    "   <> move (0,25) \n",
    "           (item 0 0 \"item\" \n",
    "         <> move (0,25) \n",
    "                 (item 0 0 \"item\")))"
   ]
  },
  {
   "cell_type": "markdown",
   "id": "7ff7eab8",
   "metadata": {},
   "source": [
    "Chaining moves"
   ]
  },
  {
   "cell_type": "code",
   "execution_count": 21,
   "id": "daf9e131",
   "metadata": {},
   "outputs": [],
   "source": [
    "chain :: [Element] -> Element\n",
    "chain [] = mempty\n",
    "chain [g] = g\n",
    "chain (g:gs) =\n",
    "  g_ [] (g\n",
    "      <> line (10, 20) (10, 25)\n",
    "      <> move (0, 25) (chain gs))"
   ]
  },
  {
   "cell_type": "code",
   "execution_count": 22,
   "id": "6d96a737",
   "metadata": {},
   "outputs": [
    {
     "data": {
      "image/svg+xml": [
       "<?xml version=\"1.0\" encoding=\"UTF-8\"?>\n",
       "<!DOCTYPE svg PUBLIC \"-//W3C//DTD SVG 1.1//EN\"\n",
       "    \"http://www.w3.org/Graphics/SVG/1.1/DTD/svg11.dtd\"><svg xmlns=\"http://www.w3.org/2000/svg\" height=\"200\" width=\"300\" xmlns:xlink=\"http://www.w3.org/1999/xlink\" version=\"1.11.1\"><g><g><rect height=\"20.0\" width=\"20.0\" stroke=\"black\" fill=\"none\" x=\"0.0\" y=\"0.0\"/><text x=\"25.0\" y=\"15.0\">item</text></g><line x2=\"10.0\" y1=\"20.0\" stroke=\"grey\" y2=\"25.0\" x1=\"10.0\"/><g transform=\"translate(0.0000 25.0000)\"><g><rect height=\"20.0\" width=\"20.0\" stroke=\"black\" fill=\"none\" x=\"0.0\" y=\"0.0\"/><text x=\"25.0\" y=\"15.0\">item</text></g><line x2=\"10.0\" y1=\"20.0\" stroke=\"grey\" y2=\"25.0\" x1=\"10.0\"/><g transform=\"translate(0.0000 25.0000)\"><g><rect height=\"20.0\" width=\"20.0\" stroke=\"black\" fill=\"none\" x=\"0.0\" y=\"0.0\"/><text x=\"25.0\" y=\"15.0\">item</text></g><line x2=\"10.0\" y1=\"20.0\" stroke=\"grey\" y2=\"25.0\" x1=\"10.0\"/><g transform=\"translate(0.0000 25.0000)\"><g><rect height=\"20.0\" width=\"20.0\" stroke=\"black\" fill=\"none\" x=\"0.0\" y=\"0.0\"/><text x=\"25.0\" y=\"15.0\">item</text></g><line x2=\"10.0\" y1=\"20.0\" stroke=\"grey\" y2=\"25.0\" x1=\"10.0\"/><g transform=\"translate(0.0000 25.0000)\"><rect height=\"20.0\" width=\"20.0\" stroke=\"black\" fill=\"none\" x=\"0.0\" y=\"0.0\"/><text x=\"25.0\" y=\"15.0\">item</text></g></g></g></g></g></svg>"
      ]
     },
     "metadata": {},
     "output_type": "display_data"
    }
   ],
   "source": [
    "chain $ replicate 5 (item 0 0 \"item\")"
   ]
  },
  {
   "cell_type": "code",
   "execution_count": 23,
   "id": "c5a198e3",
   "metadata": {},
   "outputs": [],
   "source": [
    "type Label = Element"
   ]
  },
  {
   "cell_type": "code",
   "execution_count": 24,
   "id": "4bdb2aab",
   "metadata": {},
   "outputs": [],
   "source": [
    "data Item = \n",
    "    Leaf Label\n",
    "  | All Label [Item]\n",
    "  | Any Label [Item]\n",
    "  deriving Show"
   ]
  },
  {
   "cell_type": "markdown",
   "id": "ad989968",
   "metadata": {},
   "source": [
    "Let each render function return the geometry and each item's height"
   ]
  },
  {
   "cell_type": "code",
   "execution_count": 25,
   "id": "2db8c6dd",
   "metadata": {},
   "outputs": [],
   "source": [
    "renderChain :: [(Height, Element)] -> Element\n",
    "renderChain [] = mempty\n",
    "renderChain [(_,g)] = g\n",
    "renderChain ((h,g):hgs) = \n",
    "  g_ [] (g\n",
    "      <> line (10, 20) (10, h)\n",
    "      <> move (0, h) (renderChain hgs))"
   ]
  },
  {
   "cell_type": "markdown",
   "id": "f925db92",
   "metadata": {},
   "source": [
    "Render functions are grouped in the same cell so nothing goes wrong with order of evaluation"
   ]
  },
  {
   "cell_type": "code",
   "execution_count": 26,
   "id": "d0b3e9ae",
   "metadata": {},
   "outputs": [],
   "source": [
    "renderLeaf :: Label -> (Height, Element)\n",
    "renderLeaf label = \n",
    "  let height = 25\n",
    "      geom = item 0 0 label\n",
    "  in (height, geom)\n",
    "  \n",
    "renderAll :: Label -> [Item] -> (Height, Element)\n",
    "renderAll label childnodes = \n",
    "  let \n",
    "      hg = map renderItem childnodes\n",
    "      (hs, gs) = unzip hg\n",
    "      height = sum hs + 30\n",
    "      geom :: Element\n",
    "      geom = g_ [] (item 0 0 label\n",
    "                 <> line (15, 20) (15, 25) \n",
    "                 <> line (15, 25) (40, 25)\n",
    "                 <> line (40, 25) (40, 30)\n",
    "                 <> move (30, 30) (renderChain hg))\n",
    "  in (height, geom)\n",
    "\n",
    "renderAny :: Label -> [Item] -> (Height, Element)\n",
    "renderAny label childnodes = \n",
    "  let hg = map renderItem childnodes\n",
    "      (hs, gs) = unzip hg\n",
    "      height = sum hs + 25\n",
    "      geom :: Element\n",
    "      geom = g_ [] (item 0 0 label\n",
    "                 <> line (15, 20) (15, sum (init hs) + 25 + 10) \n",
    "                 <> move (30, 25) (go 0 hg))\n",
    "                 where go y [] = mempty\n",
    "                       go y ((h,g):hgs) = \n",
    "                         g_ [] (g\n",
    "                             <> line (-15, 10) (0, 10)\n",
    "                             <> move (0, h) (go (y+h) hgs))\n",
    "  in (height, geom)\n",
    "\n",
    "renderItem :: Item -> (Height, Element)\n",
    "renderItem (Leaf label) = renderLeaf label\n",
    "renderItem (All label args) = renderAll label args\n",
    "renderItem (Any label args) = renderAny label args"
   ]
  },
  {
   "cell_type": "markdown",
   "id": "363d0abf",
   "metadata": {},
   "source": [
    "Another `IHaskellDisplay` instance for displaying the augmented element type"
   ]
  },
  {
   "cell_type": "code",
   "execution_count": 27,
   "id": "115c5170",
   "metadata": {},
   "outputs": [],
   "source": [
    "instance D.IHaskellDisplay (Height, Element) where\n",
    "  display :: (Height, Element) -> IO D.Display\n",
    "  display = D.display . D.svg . show . makeSvg"
   ]
  },
  {
   "cell_type": "markdown",
   "id": "56274a8a",
   "metadata": {},
   "source": [
    "Leaf test"
   ]
  },
  {
   "cell_type": "code",
   "execution_count": 28,
   "id": "ef8ebdaf",
   "metadata": {},
   "outputs": [
    {
     "data": {
      "image/svg+xml": [
       "<?xml version=\"1.0\" encoding=\"UTF-8\"?>\n",
       "<!DOCTYPE svg PUBLIC \"-//W3C//DTD SVG 1.1//EN\"\n",
       "    \"http://www.w3.org/Graphics/SVG/1.1/DTD/svg11.dtd\"><svg xmlns=\"http://www.w3.org/2000/svg\" height=\"25.0\" xmlns:xlink=\"http://www.w3.org/1999/xlink\" version=\"1.11.1\"><g><rect height=\"20.0\" width=\"20.0\" stroke=\"black\" fill=\"none\" x=\"0.0\" y=\"0.0\"/><text x=\"25.0\" y=\"15.0\">a leaf</text></g></svg>"
      ]
     },
     "metadata": {},
     "output_type": "display_data"
    }
   ],
   "source": [
    "renderItem (Leaf \"a leaf\")"
   ]
  },
  {
   "cell_type": "markdown",
   "id": "387545f4",
   "metadata": {},
   "source": [
    "All tests"
   ]
  },
  {
   "cell_type": "code",
   "execution_count": 29,
   "id": "cc2f0718",
   "metadata": {},
   "outputs": [
    {
     "data": {
      "image/svg+xml": [
       "<?xml version=\"1.0\" encoding=\"UTF-8\"?>\n",
       "<!DOCTYPE svg PUBLIC \"-//W3C//DTD SVG 1.1//EN\"\n",
       "    \"http://www.w3.org/Graphics/SVG/1.1/DTD/svg11.dtd\"><svg xmlns=\"http://www.w3.org/2000/svg\" height=\"105.0\" xmlns:xlink=\"http://www.w3.org/1999/xlink\" version=\"1.11.1\"><g><g><rect height=\"20.0\" width=\"20.0\" stroke=\"black\" fill=\"none\" x=\"0.0\" y=\"0.0\"/><text x=\"25.0\" y=\"15.0\">1</text></g><line x2=\"15.0\" y1=\"20.0\" stroke=\"grey\" y2=\"25.0\" x1=\"15.0\"/><line x2=\"40.0\" y1=\"25.0\" stroke=\"grey\" y2=\"25.0\" x1=\"15.0\"/><line x2=\"40.0\" y1=\"25.0\" stroke=\"grey\" y2=\"30.0\" x1=\"40.0\"/><g transform=\"translate(30.0000 30.0000)\"><g><rect height=\"20.0\" width=\"20.0\" stroke=\"black\" fill=\"none\" x=\"0.0\" y=\"0.0\"/><text x=\"25.0\" y=\"15.0\">1a</text></g><line x2=\"10.0\" y1=\"20.0\" stroke=\"grey\" y2=\"25.0\" x1=\"10.0\"/><g transform=\"translate(0.0000 25.0000)\"><g><rect height=\"20.0\" width=\"20.0\" stroke=\"black\" fill=\"none\" x=\"0.0\" y=\"0.0\"/><text x=\"25.0\" y=\"15.0\">1b</text></g><line x2=\"10.0\" y1=\"20.0\" stroke=\"grey\" y2=\"25.0\" x1=\"10.0\"/><g transform=\"translate(0.0000 25.0000)\"><rect height=\"20.0\" width=\"20.0\" stroke=\"black\" fill=\"none\" x=\"0.0\" y=\"0.0\"/><text x=\"25.0\" y=\"15.0\">1c</text></g></g></g></g></svg>"
      ]
     },
     "metadata": {},
     "output_type": "display_data"
    }
   ],
   "source": [
    "renderItem (All \"1\"\n",
    "             [ Leaf \"1a\", Leaf \"1b\", Leaf \"1c\" ])"
   ]
  },
  {
   "cell_type": "code",
   "execution_count": 30,
   "id": "f73ca05f",
   "metadata": {},
   "outputs": [
    {
     "data": {
      "image/svg+xml": [
       "<?xml version=\"1.0\" encoding=\"UTF-8\"?>\n",
       "<!DOCTYPE svg PUBLIC \"-//W3C//DTD SVG 1.1//EN\"\n",
       "    \"http://www.w3.org/Graphics/SVG/1.1/DTD/svg11.dtd\"><svg xmlns=\"http://www.w3.org/2000/svg\" height=\"240.0\" xmlns:xlink=\"http://www.w3.org/1999/xlink\" version=\"1.11.1\"><g><g><rect height=\"20.0\" width=\"20.0\" stroke=\"black\" fill=\"none\" x=\"0.0\" y=\"0.0\"/><text x=\"25.0\" y=\"15.0\">S</text></g><line x2=\"15.0\" y1=\"20.0\" stroke=\"grey\" y2=\"25.0\" x1=\"15.0\"/><line x2=\"40.0\" y1=\"25.0\" stroke=\"grey\" y2=\"25.0\" x1=\"15.0\"/><line x2=\"40.0\" y1=\"25.0\" stroke=\"grey\" y2=\"30.0\" x1=\"40.0\"/><g transform=\"translate(30.0000 30.0000)\"><g><g><rect height=\"20.0\" width=\"20.0\" stroke=\"black\" fill=\"none\" x=\"0.0\" y=\"0.0\"/><text x=\"25.0\" y=\"15.0\">1</text></g><line x2=\"15.0\" y1=\"20.0\" stroke=\"grey\" y2=\"25.0\" x1=\"15.0\"/><line x2=\"40.0\" y1=\"25.0\" stroke=\"grey\" y2=\"25.0\" x1=\"15.0\"/><line x2=\"40.0\" y1=\"25.0\" stroke=\"grey\" y2=\"30.0\" x1=\"40.0\"/><g transform=\"translate(30.0000 30.0000)\"><g><rect height=\"20.0\" width=\"20.0\" stroke=\"black\" fill=\"none\" x=\"0.0\" y=\"0.0\"/><text x=\"25.0\" y=\"15.0\">1a</text></g><line x2=\"10.0\" y1=\"20.0\" stroke=\"grey\" y2=\"25.0\" x1=\"10.0\"/><g transform=\"translate(0.0000 25.0000)\"><rect height=\"20.0\" width=\"20.0\" stroke=\"black\" fill=\"none\" x=\"0.0\" y=\"0.0\"/><text x=\"25.0\" y=\"15.0\">1b</text></g></g></g><line x2=\"10.0\" y1=\"20.0\" stroke=\"grey\" y2=\"80.0\" x1=\"10.0\"/><g transform=\"translate(0.0000 80.0000)\"><g><g><rect height=\"20.0\" width=\"20.0\" stroke=\"black\" fill=\"none\" x=\"0.0\" y=\"0.0\"/><text x=\"25.0\" y=\"15.0\">2</text></g><line x2=\"15.0\" y1=\"20.0\" stroke=\"grey\" y2=\"25.0\" x1=\"15.0\"/><line x2=\"40.0\" y1=\"25.0\" stroke=\"grey\" y2=\"25.0\" x1=\"15.0\"/><line x2=\"40.0\" y1=\"25.0\" stroke=\"grey\" y2=\"30.0\" x1=\"40.0\"/><g transform=\"translate(30.0000 30.0000)\"><g><rect height=\"20.0\" width=\"20.0\" stroke=\"black\" fill=\"none\" x=\"0.0\" y=\"0.0\"/><text x=\"25.0\" y=\"15.0\">2a</text></g><line x2=\"10.0\" y1=\"20.0\" stroke=\"grey\" y2=\"25.0\" x1=\"10.0\"/><g transform=\"translate(0.0000 25.0000)\"><g><rect height=\"20.0\" width=\"20.0\" stroke=\"black\" fill=\"none\" x=\"0.0\" y=\"0.0\"/><text x=\"25.0\" y=\"15.0\">2b</text></g><line x2=\"10.0\" y1=\"20.0\" stroke=\"grey\" y2=\"25.0\" x1=\"10.0\"/><g transform=\"translate(0.0000 25.0000)\"><rect height=\"20.0\" width=\"20.0\" stroke=\"black\" fill=\"none\" x=\"0.0\" y=\"0.0\"/><text x=\"25.0\" y=\"15.0\">2c</text></g></g></g></g><line x2=\"10.0\" y1=\"20.0\" stroke=\"grey\" y2=\"105.0\" x1=\"10.0\"/><g transform=\"translate(0.0000 105.0000)\"><rect height=\"20.0\" width=\"20.0\" stroke=\"black\" fill=\"none\" x=\"0.0\" y=\"0.0\"/><text x=\"25.0\" y=\"15.0\">3</text></g></g></g></g></svg>"
      ]
     },
     "metadata": {},
     "output_type": "display_data"
    }
   ],
   "source": [
    "renderItem (All \"S\"\n",
    "             [ All \"1\" \n",
    "                [ Leaf \"1a\"\n",
    "                , Leaf \"1b\" ]\n",
    "             , All \"2\"\n",
    "                [ Leaf \"2a\"\n",
    "                , Leaf \"2b\"\n",
    "                , Leaf \"2c\" ]\n",
    "             , Leaf \"3\" ])"
   ]
  },
  {
   "cell_type": "markdown",
   "id": "ff85f96a",
   "metadata": {},
   "source": [
    "Any tests"
   ]
  },
  {
   "cell_type": "code",
   "execution_count": 31,
   "id": "52dc5cdc",
   "metadata": {},
   "outputs": [
    {
     "data": {
      "image/svg+xml": [
       "<?xml version=\"1.0\" encoding=\"UTF-8\"?>\n",
       "<!DOCTYPE svg PUBLIC \"-//W3C//DTD SVG 1.1//EN\"\n",
       "    \"http://www.w3.org/Graphics/SVG/1.1/DTD/svg11.dtd\"><svg xmlns=\"http://www.w3.org/2000/svg\" height=\"310.0\" xmlns:xlink=\"http://www.w3.org/1999/xlink\" version=\"1.11.1\"><g><g><rect height=\"20.0\" width=\"20.0\" stroke=\"black\" fill=\"none\" x=\"0.0\" y=\"0.0\"/><text x=\"25.0\" y=\"15.0\">You need all of</text></g><line x2=\"15.0\" y1=\"20.0\" stroke=\"grey\" y2=\"25.0\" x1=\"15.0\"/><line x2=\"40.0\" y1=\"25.0\" stroke=\"grey\" y2=\"25.0\" x1=\"15.0\"/><line x2=\"40.0\" y1=\"25.0\" stroke=\"grey\" y2=\"30.0\" x1=\"40.0\"/><g transform=\"translate(30.0000 30.0000)\"><g><rect height=\"20.0\" width=\"20.0\" stroke=\"black\" fill=\"none\" x=\"0.0\" y=\"0.0\"/><text x=\"25.0\" y=\"15.0\">Item 1;</text></g><line x2=\"10.0\" y1=\"20.0\" stroke=\"grey\" y2=\"25.0\" x1=\"10.0\"/><g transform=\"translate(0.0000 25.0000)\"><g><rect height=\"20.0\" width=\"20.0\" stroke=\"black\" fill=\"none\" x=\"0.0\" y=\"0.0\"/><text x=\"25.0\" y=\"15.0\">Item 2;</text></g><line x2=\"10.0\" y1=\"20.0\" stroke=\"grey\" y2=\"25.0\" x1=\"10.0\"/><g transform=\"translate(0.0000 25.0000)\"><g><g><rect height=\"20.0\" width=\"20.0\" stroke=\"black\" fill=\"none\" x=\"0.0\" y=\"0.0\"/><text x=\"25.0\" y=\"15.0\">Item 3 which may be satisfied by any of:</text></g><line x2=\"15.0\" y1=\"20.0\" stroke=\"grey\" y2=\"85.0\" x1=\"15.0\"/><g transform=\"translate(30.0000 25.0000)\"><g><rect height=\"20.0\" width=\"20.0\" stroke=\"black\" fill=\"none\" x=\"0.0\" y=\"0.0\"/><text x=\"25.0\" y=\"15.0\">3.a;</text></g><line x2=\"0.0\" y1=\"10.0\" stroke=\"grey\" y2=\"10.0\" x1=\"-15.0\"/><g transform=\"translate(0.0000 25.0000)\"><g><rect height=\"20.0\" width=\"20.0\" stroke=\"black\" fill=\"none\" x=\"0.0\" y=\"0.0\"/><text x=\"25.0\" y=\"15.0\">3.b; or</text></g><line x2=\"0.0\" y1=\"10.0\" stroke=\"grey\" y2=\"10.0\" x1=\"-15.0\"/><g transform=\"translate(0.0000 25.0000)\"><g><rect height=\"20.0\" width=\"20.0\" stroke=\"black\" fill=\"none\" x=\"0.0\" y=\"0.0\"/><text x=\"25.0\" y=\"15.0\">3.c;</text></g><line x2=\"0.0\" y1=\"10.0\" stroke=\"grey\" y2=\"10.0\" x1=\"-15.0\"/></g></g></g></g><line x2=\"10.0\" y1=\"20.0\" stroke=\"grey\" y2=\"100.0\" x1=\"10.0\"/><g transform=\"translate(0.0000 100.0000)\"><g><rect height=\"20.0\" width=\"20.0\" stroke=\"black\" fill=\"none\" x=\"0.0\" y=\"0.0\"/><text x=\"25.0\" y=\"15.0\">Item 4; and</text></g><line x2=\"10.0\" y1=\"20.0\" stroke=\"grey\" y2=\"25.0\" x1=\"10.0\"/><g transform=\"translate(0.0000 25.0000)\"><g><rect height=\"20.0\" width=\"20.0\" stroke=\"black\" fill=\"none\" x=\"0.0\" y=\"0.0\"/><text x=\"25.0\" y=\"15.0\">Item 5 which requires all of:</text></g><line x2=\"15.0\" y1=\"20.0\" stroke=\"grey\" y2=\"25.0\" x1=\"15.0\"/><line x2=\"40.0\" y1=\"25.0\" stroke=\"grey\" y2=\"25.0\" x1=\"15.0\"/><line x2=\"40.0\" y1=\"25.0\" stroke=\"grey\" y2=\"30.0\" x1=\"40.0\"/><g transform=\"translate(30.0000 30.0000)\"><g><rect height=\"20.0\" width=\"20.0\" stroke=\"black\" fill=\"none\" x=\"0.0\" y=\"0.0\"/><text x=\"25.0\" y=\"15.0\">5.a;</text></g><line x2=\"10.0\" y1=\"20.0\" stroke=\"grey\" y2=\"25.0\" x1=\"10.0\"/><g transform=\"translate(0.0000 25.0000)\"><g><rect height=\"20.0\" width=\"20.0\" stroke=\"black\" fill=\"none\" x=\"0.0\" y=\"0.0\"/><text x=\"25.0\" y=\"15.0\">5.b; and</text></g><line x2=\"10.0\" y1=\"20.0\" stroke=\"grey\" y2=\"25.0\" x1=\"10.0\"/><g transform=\"translate(0.0000 25.0000)\"><rect height=\"20.0\" width=\"20.0\" stroke=\"black\" fill=\"none\" x=\"0.0\" y=\"0.0\"/><text x=\"25.0\" y=\"15.0\">5.c.</text></g></g></g></g></g></g></g></g></g></svg>"
      ]
     },
     "metadata": {},
     "output_type": "display_data"
    }
   ],
   "source": [
    "renderItem (All \"You need all of\" \n",
    "             [ Leaf \"Item 1;\"\n",
    "             , Leaf \"Item 2;\"\n",
    "             , Any \"Item 3 which may be satisfied by any of:\" \n",
    "                [ Leaf \"3.a;\"\n",
    "                , Leaf \"3.b; or\"\n",
    "                , Leaf \"3.c;\" ]\n",
    "             , Leaf \"Item 4; and\"\n",
    "             , All \"Item 5 which requires all of:\"\n",
    "                [ Leaf \"5.a;\"\n",
    "                , Leaf \"5.b; and\"\n",
    "                , Leaf \"5.c.\" ] ])"
   ]
  }
 ],
 "metadata": {
  "kernelspec": {
   "display_name": "Haskell",
   "language": "haskell",
   "name": "haskell"
  },
  "language_info": {
   "codemirror_mode": "ihaskell",
   "file_extension": ".hs",
   "mimetype": "text/x-haskell",
   "name": "haskell",
   "pygments_lexer": "Haskell",
   "version": "8.10.4"
  }
 },
 "nbformat": 4,
 "nbformat_minor": 5
}
